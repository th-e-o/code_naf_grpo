{
 "cells": [
  {
   "cell_type": "code",
   "execution_count": 24,
   "id": "2304cc79-4112-443f-895d-35b91bed3872",
   "metadata": {},
   "outputs": [
    {
     "name": "stdout",
     "output_type": "stream",
     "text": [
      "Requirement already satisfied: pdfplumber in /opt/python/lib/python3.13/site-packages (0.11.7)\n",
      "Requirement already satisfied: fitz in /opt/python/lib/python3.13/site-packages (0.0.1.dev2)\n",
      "Collecting frontend\n",
      "  Downloading frontend-0.0.3-py3-none-any.whl.metadata (847 bytes)\n",
      "Requirement already satisfied: pdfminer.six==20250506 in /opt/python/lib/python3.13/site-packages (from pdfplumber) (20250506)\n",
      "Requirement already satisfied: Pillow>=9.1 in /opt/python/lib/python3.13/site-packages (from pdfplumber) (11.3.0)\n",
      "Requirement already satisfied: pypdfium2>=4.18.0 in /opt/python/lib/python3.13/site-packages (from pdfplumber) (4.30.0)\n",
      "Requirement already satisfied: charset-normalizer>=2.0.0 in /opt/python/lib/python3.13/site-packages (from pdfminer.six==20250506->pdfplumber) (3.4.3)\n",
      "Requirement already satisfied: cryptography>=36.0.0 in /opt/python/lib/python3.13/site-packages (from pdfminer.six==20250506->pdfplumber) (45.0.7)\n",
      "Requirement already satisfied: configobj in /opt/python/lib/python3.13/site-packages (from fitz) (5.0.9)\n",
      "Requirement already satisfied: configparser in /opt/python/lib/python3.13/site-packages (from fitz) (7.2.0)\n",
      "Requirement already satisfied: httplib2 in /opt/python/lib/python3.13/site-packages (from fitz) (0.31.0)\n",
      "Requirement already satisfied: nibabel in /opt/python/lib/python3.13/site-packages (from fitz) (5.3.2)\n",
      "Requirement already satisfied: nipype in /opt/python/lib/python3.13/site-packages (from fitz) (1.10.0)\n",
      "Requirement already satisfied: numpy in /opt/python/lib/python3.13/site-packages (from fitz) (2.3.3)\n",
      "Requirement already satisfied: pandas in /opt/python/lib/python3.13/site-packages (from fitz) (2.3.2)\n",
      "Requirement already satisfied: pyxnat in /opt/python/lib/python3.13/site-packages (from fitz) (1.6.3)\n",
      "Requirement already satisfied: scipy in /opt/python/lib/python3.13/site-packages (from fitz) (1.16.2)\n",
      "Requirement already satisfied: starlette>=0.12.0 in /opt/python/lib/python3.13/site-packages (from frontend) (0.47.3)\n",
      "Requirement already satisfied: uvicorn>=0.7.1 in /opt/python/lib/python3.13/site-packages (from frontend) (0.35.0)\n",
      "Requirement already satisfied: itsdangerous>=1.1.0 in /opt/python/lib/python3.13/site-packages (from frontend) (2.2.0)\n",
      "Collecting aiofiles (from frontend)\n",
      "  Downloading aiofiles-24.1.0-py3-none-any.whl.metadata (10 kB)\n",
      "Requirement already satisfied: cffi>=1.14 in /opt/python/lib/python3.13/site-packages (from cryptography>=36.0.0->pdfminer.six==20250506->pdfplumber) (2.0.0)\n",
      "Requirement already satisfied: pycparser in /opt/python/lib/python3.13/site-packages (from cffi>=1.14->cryptography>=36.0.0->pdfminer.six==20250506->pdfplumber) (2.23)\n",
      "Requirement already satisfied: anyio<5,>=3.6.2 in /opt/python/lib/python3.13/site-packages (from starlette>=0.12.0->frontend) (4.10.0)\n",
      "Requirement already satisfied: idna>=2.8 in /opt/python/lib/python3.13/site-packages (from anyio<5,>=3.6.2->starlette>=0.12.0->frontend) (3.10)\n",
      "Requirement already satisfied: sniffio>=1.1 in /opt/python/lib/python3.13/site-packages (from anyio<5,>=3.6.2->starlette>=0.12.0->frontend) (1.3.1)\n",
      "Requirement already satisfied: click>=7.0 in /opt/python/lib/python3.13/site-packages (from uvicorn>=0.7.1->frontend) (8.2.1)\n",
      "Requirement already satisfied: h11>=0.8 in /opt/python/lib/python3.13/site-packages (from uvicorn>=0.7.1->frontend) (0.16.0)\n",
      "Requirement already satisfied: pyparsing<4,>=3.0.4 in /opt/python/lib/python3.13/site-packages (from httplib2->fitz) (3.2.4)\n",
      "Requirement already satisfied: packaging>=20 in /opt/python/lib/python3.13/site-packages (from nibabel->fitz) (25.0)\n",
      "Requirement already satisfied: networkx>=2.5 in /opt/python/lib/python3.13/site-packages (from nipype->fitz) (3.5)\n",
      "Requirement already satisfied: prov>=1.5.2 in /opt/python/lib/python3.13/site-packages (from nipype->fitz) (2.1.1)\n",
      "Requirement already satisfied: pydot>=1.2.3 in /opt/python/lib/python3.13/site-packages (from nipype->fitz) (4.0.1)\n",
      "Requirement already satisfied: python-dateutil>=2.2 in /opt/python/lib/python3.13/site-packages (from nipype->fitz) (2.9.0.post0)\n",
      "Requirement already satisfied: rdflib>=5.0.0 in /opt/python/lib/python3.13/site-packages (from nipype->fitz) (7.1.4)\n",
      "Requirement already satisfied: simplejson>=3.8.0 in /opt/python/lib/python3.13/site-packages (from nipype->fitz) (3.20.1)\n",
      "Requirement already satisfied: traits>=6.2 in /opt/python/lib/python3.13/site-packages (from nipype->fitz) (7.0.2)\n",
      "Requirement already satisfied: filelock>=3.0.0 in /opt/python/lib/python3.13/site-packages (from nipype->fitz) (3.19.1)\n",
      "Requirement already satisfied: acres in /opt/python/lib/python3.13/site-packages (from nipype->fitz) (0.5.0)\n",
      "Requirement already satisfied: etelemetry>=0.3.1 in /opt/python/lib/python3.13/site-packages (from nipype->fitz) (0.3.1)\n",
      "Requirement already satisfied: looseversion!=1.2 in /opt/python/lib/python3.13/site-packages (from nipype->fitz) (1.3.0)\n",
      "Requirement already satisfied: puremagic in /opt/python/lib/python3.13/site-packages (from nipype->fitz) (1.30)\n",
      "Requirement already satisfied: requests in /opt/python/lib/python3.13/site-packages (from etelemetry>=0.3.1->nipype->fitz) (2.32.5)\n",
      "Requirement already satisfied: ci-info>=0.2 in /opt/python/lib/python3.13/site-packages (from etelemetry>=0.3.1->nipype->fitz) (0.3.0)\n",
      "Requirement already satisfied: six>=1.5 in /opt/python/lib/python3.13/site-packages (from python-dateutil>=2.2->nipype->fitz) (1.17.0)\n",
      "Requirement already satisfied: pytz>=2020.1 in /opt/python/lib/python3.13/site-packages (from pandas->fitz) (2025.2)\n",
      "Requirement already satisfied: tzdata>=2022.7 in /opt/python/lib/python3.13/site-packages (from pandas->fitz) (2025.2)\n",
      "Requirement already satisfied: lxml>=4.3 in /opt/python/lib/python3.13/site-packages (from pyxnat->fitz) (6.0.1)\n",
      "Requirement already satisfied: pathlib>=1.0 in /opt/python/lib/python3.13/site-packages (from pyxnat->fitz) (1.0.1)\n",
      "Requirement already satisfied: urllib3<3,>=1.21.1 in /opt/python/lib/python3.13/site-packages (from requests->etelemetry>=0.3.1->nipype->fitz) (2.5.0)\n",
      "Requirement already satisfied: certifi>=2017.4.17 in /opt/python/lib/python3.13/site-packages (from requests->etelemetry>=0.3.1->nipype->fitz) (2025.8.3)\n",
      "Downloading frontend-0.0.3-py3-none-any.whl (32 kB)\n",
      "Downloading aiofiles-24.1.0-py3-none-any.whl (15 kB)\n",
      "Installing collected packages: aiofiles, frontend\n",
      "\u001b[2K   \u001b[90m━━━━━━━━━━━━━━━━━━━━━━━━━━━━━━━━━━━━━━━━\u001b[0m \u001b[32m2/2\u001b[0m [frontend]\n",
      "\u001b[1A\u001b[2KSuccessfully installed aiofiles-24.1.0 frontend-0.0.3\n"
     ]
    }
   ],
   "source": [
    "!pip install pdfplumber fitz frontend\n"
   ]
  },
  {
   "cell_type": "code",
   "execution_count": 11,
   "id": "a2d40e60-b60c-45c8-b1fc-ab95696173c7",
   "metadata": {},
   "outputs": [],
   "source": [
    "from dataclasses import dataclass\n",
    "from __future__ import annotations"
   ]
  },
  {
   "cell_type": "markdown",
   "id": "f9e0e070-7ed6-41b2-9462-ed06b2373795",
   "metadata": {},
   "source": [
    "Creation of the Node class: \n",
    "- name of the node\n",
    "- description of the node\n",
    "- children of the node"
   ]
  },
  {
   "cell_type": "code",
   "execution_count": 12,
   "id": "7aa4a85d-1d58-4727-9425-00556d5a6d2f",
   "metadata": {},
   "outputs": [],
   "source": [
    "@dataclass\n",
    "class Node:\n",
    "    name: str\n",
    "    desc: str\n",
    "    children: list[Node] | None = None\n",
    "\n",
    "    def get_name(self) -> str: \n",
    "        return self.name\n",
    "        \n",
    "    def get_desc(self) -> str: \n",
    "        return self.desc\n",
    "\n",
    "    def has_children(self) -> bool: \n",
    "        return self.children is not None\n",
    "\n",
    "    def get_children(self) -> list[Node] | None:\n",
    "        return self.children\n"
   ]
  },
  {
   "cell_type": "markdown",
   "id": "6d199bcc-504c-4769-a017-ffdf1b9b3bb2",
   "metadata": {},
   "source": [
    "We create the graph of the NACE: https://ec.europa.eu/eurostat/documents/3859598/5902521/KS-RA-07-015-EN.PDF.pdf/dd5443f5-b886-40e4-920d-9df03590ff91?t=1414781457000"
   ]
  },
  {
   "cell_type": "code",
   "execution_count": 15,
   "id": "aff26a71-49b7-4cae-a2ee-2d5c80c87c9f",
   "metadata": {},
   "outputs": [],
   "source": [
    "import requests\n",
    "\n",
    "def download_pdf(url, filename):\n",
    "    response = requests.get(url)\n",
    "    response.raise_for_status()  # Check if download was successful\n",
    "    \n",
    "    with open(filename, 'wb') as f:\n",
    "        f.write(response.content)\n",
    "    \n",
    "    print(f\"PDF downloaded as: {filename}\")\n",
    "    "
   ]
  },
  {
   "cell_type": "code",
   "execution_count": 20,
   "id": "135b9c83-7503-433f-9b41-7931959a7b53",
   "metadata": {},
   "outputs": [
    {
     "name": "stdout",
     "output_type": "stream",
     "text": [
      "PDF downloaded as: code_naf_grpo/NACE.pdf\n"
     ]
    }
   ],
   "source": [
    "url = \"https://ec.europa.eu/eurostat/documents/3859598/5902521/KS-RA-07-015-EN.PDF.pdf/dd5443f5-b886-40e4-920d-9df03590ff91?t=1414781457000\"\n",
    "file_path = \"code_naf_grpo/NACE.pdf\"\n",
    "download_pdf(url, file_path)"
   ]
  },
  {
   "cell_type": "markdown",
   "id": "5d24a764-7261-4dde-9b22-83100ea48752",
   "metadata": {},
   "source": [
    "Let's have a look of the organisation of the PDF : "
   ]
  },
  {
   "cell_type": "code",
   "execution_count": 25,
   "id": "063f1f8e-ab8c-4f0d-a5b5-ad6172c5c905",
   "metadata": {},
   "outputs": [
    {
     "ename": "RuntimeError",
     "evalue": "Directory 'static/' does not exist",
     "output_type": "error",
     "traceback": [
      "\u001b[31m---------------------------------------------------------------------------\u001b[39m",
      "\u001b[31mRuntimeError\u001b[39m                              Traceback (most recent call last)",
      "\u001b[36mCell\u001b[39m\u001b[36m \u001b[39m\u001b[32mIn[25]\u001b[39m\u001b[32m, line 1\u001b[39m\n\u001b[32m----> \u001b[39m\u001b[32m1\u001b[39m \u001b[38;5;28;01mimport\u001b[39;00m\u001b[38;5;250m \u001b[39m\u001b[34;01mfitz\u001b[39;00m \n\u001b[32m      3\u001b[39m \u001b[38;5;28;01mdef\u001b[39;00m\u001b[38;5;250m \u001b[39m\u001b[34mget_pdf_outline\u001b[39m(pdf_path):\n\u001b[32m      4\u001b[39m     doc = fitz.open(pdf_path)\n",
      "\u001b[36mFile \u001b[39m\u001b[32m/opt/python/lib/python3.13/site-packages/fitz/__init__.py:1\u001b[39m\n\u001b[32m----> \u001b[39m\u001b[32m1\u001b[39m \u001b[38;5;28;01mfrom\u001b[39;00m\u001b[38;5;250m \u001b[39m\u001b[34;01mfrontend\u001b[39;00m\u001b[38;5;250m \u001b[39m\u001b[38;5;28;01mimport\u001b[39;00m *\n\u001b[32m      2\u001b[39m \u001b[38;5;28;01mimport\u001b[39;00m\u001b[38;5;250m \u001b[39m\u001b[34;01mtools\u001b[39;00m\n\u001b[32m      3\u001b[39m \u001b[38;5;28;01mimport\u001b[39;00m\u001b[38;5;250m \u001b[39m\u001b[34;01mos\u001b[39;00m\u001b[34;01m.\u001b[39;00m\u001b[34;01mpath\u001b[39;00m\u001b[38;5;250m \u001b[39m\u001b[38;5;28;01mas\u001b[39;00m\u001b[38;5;250m \u001b[39m\u001b[34;01mop\u001b[39;00m\n",
      "\u001b[36mFile \u001b[39m\u001b[32m/opt/python/lib/python3.13/site-packages/frontend/__init__.py:1\u001b[39m\n\u001b[32m----> \u001b[39m\u001b[32m1\u001b[39m \u001b[38;5;28;01mfrom\u001b[39;00m\u001b[38;5;250m \u001b[39m\u001b[34;01m.\u001b[39;00m\u001b[34;01mevents\u001b[39;00m\u001b[38;5;250m \u001b[39m\u001b[38;5;28;01mimport\u001b[39;00m *\n\u001b[32m      2\u001b[39m \u001b[38;5;28;01mfrom\u001b[39;00m\u001b[38;5;250m \u001b[39m\u001b[34;01m.\u001b[39;00m\u001b[38;5;250m \u001b[39m\u001b[38;5;28;01mimport\u001b[39;00m config\n\u001b[32m      3\u001b[39m \u001b[38;5;28;01mfrom\u001b[39;00m\u001b[38;5;250m \u001b[39m\u001b[34;01m.\u001b[39;00m\u001b[34;01mcomponents\u001b[39;00m\u001b[38;5;250m \u001b[39m\u001b[38;5;28;01mimport\u001b[39;00m *\n",
      "\u001b[36mFile \u001b[39m\u001b[32m/opt/python/lib/python3.13/site-packages/frontend/events/__init__.py:1\u001b[39m\n\u001b[32m----> \u001b[39m\u001b[32m1\u001b[39m \u001b[38;5;28;01mfrom\u001b[39;00m\u001b[38;5;250m \u001b[39m\u001b[34;01m.\u001b[39;00m\u001b[34;01mclipboard\u001b[39;00m\u001b[38;5;250m \u001b[39m\u001b[38;5;28;01mimport\u001b[39;00m *\n\u001b[32m      2\u001b[39m \u001b[38;5;28;01mfrom\u001b[39;00m\u001b[38;5;250m \u001b[39m\u001b[34;01m.\u001b[39;00m\u001b[34;01mevent_mixins\u001b[39;00m\u001b[38;5;250m \u001b[39m\u001b[38;5;28;01mimport\u001b[39;00m *\n\u001b[32m      3\u001b[39m \u001b[38;5;28;01mfrom\u001b[39;00m\u001b[38;5;250m \u001b[39m\u001b[34;01m.\u001b[39;00m\u001b[34;01mhash_change\u001b[39;00m\u001b[38;5;250m \u001b[39m\u001b[38;5;28;01mimport\u001b[39;00m *\n",
      "\u001b[36mFile \u001b[39m\u001b[32m/opt/python/lib/python3.13/site-packages/frontend/events/clipboard.py:2\u001b[39m\n\u001b[32m      1\u001b[39m \u001b[38;5;28;01mfrom\u001b[39;00m\u001b[38;5;250m \u001b[39m\u001b[34;01m.\u001b[39;00m\u001b[34;01mevent_mixins\u001b[39;00m\u001b[38;5;250m \u001b[39m\u001b[38;5;28;01mimport\u001b[39;00m ClipboardDataMixin\n\u001b[32m----> \u001b[39m\u001b[32m2\u001b[39m \u001b[38;5;28;01mfrom\u001b[39;00m\u001b[38;5;250m \u001b[39m\u001b[34;01m.\u001b[39;00m\u001b[34;01m.\u001b[39;00m\u001b[34;01mdom\u001b[39;00m\u001b[38;5;250m \u001b[39m\u001b[38;5;28;01mimport\u001b[39;00m Event\n\u001b[32m      4\u001b[39m __all__ = [\u001b[33m'\u001b[39m\u001b[33mClipboardEvent\u001b[39m\u001b[33m'\u001b[39m]\n\u001b[32m      7\u001b[39m \u001b[38;5;28;01mclass\u001b[39;00m\u001b[38;5;250m \u001b[39m\u001b[34;01mClipboardEvent\u001b[39;00m(Event, ClipboardDataMixin):\n",
      "\u001b[36mFile \u001b[39m\u001b[32m/opt/python/lib/python3.13/site-packages/frontend/dom.py:439\u001b[39m\n\u001b[32m    435\u001b[39m         \u001b[38;5;28;01mexcept\u001b[39;00m \u001b[38;5;167;01mKeyError\u001b[39;00m:\n\u001b[32m    436\u001b[39m             \u001b[38;5;28;01mpass\u001b[39;00m\n\u001b[32m--> \u001b[39m\u001b[32m439\u001b[39m \u001b[38;5;28;01mfrom\u001b[39;00m\u001b[38;5;250m \u001b[39m\u001b[34;01m.\u001b[39;00m\u001b[38;5;250m \u001b[39m\u001b[38;5;28;01mimport\u001b[39;00m dispatcher\n",
      "\u001b[36mFile \u001b[39m\u001b[32m/opt/python/lib/python3.13/site-packages/frontend/dispatcher.py:15\u001b[39m\n\u001b[32m     12\u001b[39m \u001b[38;5;28;01mfrom\u001b[39;00m\u001b[38;5;250m \u001b[39m\u001b[34;01mstarlette\u001b[39;00m\u001b[34;01m.\u001b[39;00m\u001b[34;01mendpoints\u001b[39;00m\u001b[38;5;250m \u001b[39m\u001b[38;5;28;01mimport\u001b[39;00m WebSocketEndpoint\n\u001b[32m     13\u001b[39m \u001b[38;5;28;01mfrom\u001b[39;00m\u001b[38;5;250m \u001b[39m\u001b[34;01mstarlette\u001b[39;00m\u001b[34;01m.\u001b[39;00m\u001b[34;01mwebsockets\u001b[39;00m\u001b[38;5;250m \u001b[39m\u001b[38;5;28;01mimport\u001b[39;00m WebSocket\n\u001b[32m---> \u001b[39m\u001b[32m15\u001b[39m \u001b[38;5;28;01mfrom\u001b[39;00m\u001b[38;5;250m \u001b[39m\u001b[34;01m.\u001b[39;00m\u001b[38;5;250m \u001b[39m\u001b[38;5;28;01mimport\u001b[39;00m config, server\n\u001b[32m     16\u001b[39m \u001b[38;5;28;01mfrom\u001b[39;00m\u001b[38;5;250m \u001b[39m\u001b[34;01m.\u001b[39;00m\u001b[34;01masync_utils\u001b[39;00m\u001b[38;5;250m \u001b[39m\u001b[38;5;28;01mimport\u001b[39;00m later_await\n\u001b[32m     18\u001b[39m __all__ = [\u001b[33m'\u001b[39m\u001b[33mreact\u001b[39m\u001b[33m'\u001b[39m]\n",
      "\u001b[36mFile \u001b[39m\u001b[32m/opt/python/lib/python3.13/site-packages/frontend/server.py:24\u001b[39m\n\u001b[32m     21\u001b[39m __all__ = [\u001b[33m'\u001b[39m\u001b[33mroute\u001b[39m\u001b[33m'\u001b[39m, \u001b[33m'\u001b[39m\u001b[33mrun\u001b[39m\u001b[33m'\u001b[39m]\n\u001b[32m     23\u001b[39m app: Any = Starlette(debug=config.DEBUG)\n\u001b[32m---> \u001b[39m\u001b[32m24\u001b[39m app.mount(config.STATIC_ROUTE, \u001b[43mStaticFiles\u001b[49m\u001b[43m(\u001b[49m\u001b[43mdirectory\u001b[49m\u001b[43m=\u001b[49m\u001b[43mconfig\u001b[49m\u001b[43m.\u001b[49m\u001b[43mSTATIC_DIRECTORY\u001b[49m\u001b[43m)\u001b[49m, name=config.STATIC_NAME)\n\u001b[32m     25\u001b[39m app.add_middleware(GZipMiddleware)\n\u001b[32m     26\u001b[39m app.add_middleware(\n\u001b[32m     27\u001b[39m     CORSMiddleware,\n\u001b[32m     28\u001b[39m     allow_origins=[\u001b[33m\"\u001b[39m\u001b[33m*\u001b[39m\u001b[33m\"\u001b[39m],\n\u001b[32m   (...)\u001b[39m\u001b[32m     31\u001b[39m     allow_headers=[\u001b[33m\"\u001b[39m\u001b[33m*\u001b[39m\u001b[33m\"\u001b[39m],\n\u001b[32m     32\u001b[39m )\n",
      "\u001b[36mFile \u001b[39m\u001b[32m/opt/python/lib/python3.13/site-packages/starlette/staticfiles.py:56\u001b[39m, in \u001b[36mStaticFiles.__init__\u001b[39m\u001b[34m(self, directory, packages, html, check_dir, follow_symlink)\u001b[39m\n\u001b[32m     54\u001b[39m \u001b[38;5;28mself\u001b[39m.follow_symlink = follow_symlink\n\u001b[32m     55\u001b[39m \u001b[38;5;28;01mif\u001b[39;00m check_dir \u001b[38;5;129;01mand\u001b[39;00m directory \u001b[38;5;129;01mis\u001b[39;00m \u001b[38;5;129;01mnot\u001b[39;00m \u001b[38;5;28;01mNone\u001b[39;00m \u001b[38;5;129;01mand\u001b[39;00m \u001b[38;5;129;01mnot\u001b[39;00m os.path.isdir(directory):\n\u001b[32m---> \u001b[39m\u001b[32m56\u001b[39m     \u001b[38;5;28;01mraise\u001b[39;00m \u001b[38;5;167;01mRuntimeError\u001b[39;00m(\u001b[33mf\u001b[39m\u001b[33m\"\u001b[39m\u001b[33mDirectory \u001b[39m\u001b[33m'\u001b[39m\u001b[38;5;132;01m{\u001b[39;00mdirectory\u001b[38;5;132;01m}\u001b[39;00m\u001b[33m'\u001b[39m\u001b[33m does not exist\u001b[39m\u001b[33m\"\u001b[39m)\n",
      "\u001b[31mRuntimeError\u001b[39m: Directory 'static/' does not exist"
     ]
    }
   ],
   "source": [
    "import fitz \n",
    "\n",
    "def get_pdf_outline(pdf_path):\n",
    "    doc = fitz.open(pdf_path)\n",
    "    outline = doc.get_toc()  # Get Table of Contents\n",
    "    \n",
    "    for level, title, page in outline:\n",
    "        indent = \"  \" * (level - 1)  # Indent based on hierarchy level\n",
    "        print(f\"{indent}{title} (Page {page})\")\n",
    "    \n",
    "    doc.close()\n",
    "    return outline\n",
    "\n",
    "# Usage\n",
    "outline = get_pdf_outline(file_path)"
   ]
  },
  {
   "cell_type": "code",
   "execution_count": null,
   "id": "e43fe856-10ca-4eba-8c7f-b544d13da3f3",
   "metadata": {},
   "outputs": [],
   "source": []
  }
 ],
 "metadata": {
  "kernelspec": {
   "display_name": "Python 3 (ipykernel)",
   "language": "python",
   "name": "python3"
  },
  "language_info": {
   "codemirror_mode": {
    "name": "ipython",
    "version": 3
   },
   "file_extension": ".py",
   "mimetype": "text/x-python",
   "name": "python",
   "nbconvert_exporter": "python",
   "pygments_lexer": "ipython3",
   "version": "3.13.7"
  }
 },
 "nbformat": 4,
 "nbformat_minor": 5
}
